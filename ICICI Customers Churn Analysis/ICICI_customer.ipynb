{
 "cells": [
  {
   "cell_type": "code",
   "execution_count": 1,
   "id": "c3cc04f2-7420-4af2-9f21-91310bc8384d",
   "metadata": {},
   "outputs": [],
   "source": [
    "import numpy as np\n",
    "import pandas as pd\n",
    "import matplotlib.pyplot as plt\n",
    "import seaborn as sns"
   ]
  },
  {
   "cell_type": "code",
   "execution_count": 2,
   "id": "a345c0b6-7c47-4e49-b653-ca7649a38c5a",
   "metadata": {},
   "outputs": [],
   "source": [
    "icici = pd.read_csv(\"Bank_Churn.csv\")"
   ]
  },
  {
   "cell_type": "code",
   "execution_count": 507,
   "id": "8c2b6447-e712-4ebe-a5eb-e89b1c99b7b1",
   "metadata": {},
   "outputs": [
    {
     "data": {
      "text/html": [
       "<div>\n",
       "<style scoped>\n",
       "    .dataframe tbody tr th:only-of-type {\n",
       "        vertical-align: middle;\n",
       "    }\n",
       "\n",
       "    .dataframe tbody tr th {\n",
       "        vertical-align: top;\n",
       "    }\n",
       "\n",
       "    .dataframe thead th {\n",
       "        text-align: right;\n",
       "    }\n",
       "</style>\n",
       "<table border=\"1\" class=\"dataframe\">\n",
       "  <thead>\n",
       "    <tr style=\"text-align: right;\">\n",
       "      <th></th>\n",
       "      <th>CustomerId</th>\n",
       "      <th>Surname</th>\n",
       "      <th>CreditScore</th>\n",
       "      <th>Geography</th>\n",
       "      <th>Gender</th>\n",
       "      <th>Age</th>\n",
       "      <th>Tenure</th>\n",
       "      <th>Balance</th>\n",
       "      <th>NumOfProducts</th>\n",
       "      <th>HasCrCard</th>\n",
       "      <th>IsActiveMember</th>\n",
       "      <th>EstimatedSalary</th>\n",
       "      <th>Exited</th>\n",
       "      <th>Age_Group</th>\n",
       "      <th>Balance_Group</th>\n",
       "    </tr>\n",
       "  </thead>\n",
       "  <tbody>\n",
       "    <tr>\n",
       "      <th>0</th>\n",
       "      <td>15634602</td>\n",
       "      <td>Hargrave</td>\n",
       "      <td>619</td>\n",
       "      <td>France</td>\n",
       "      <td>Female</td>\n",
       "      <td>42</td>\n",
       "      <td>2</td>\n",
       "      <td>0.00</td>\n",
       "      <td>1</td>\n",
       "      <td>1</td>\n",
       "      <td>1</td>\n",
       "      <td>101348.88</td>\n",
       "      <td>1</td>\n",
       "      <td>30-50</td>\n",
       "      <td>0-10000</td>\n",
       "    </tr>\n",
       "    <tr>\n",
       "      <th>1</th>\n",
       "      <td>15647311</td>\n",
       "      <td>Hill</td>\n",
       "      <td>608</td>\n",
       "      <td>Spain</td>\n",
       "      <td>Female</td>\n",
       "      <td>41</td>\n",
       "      <td>1</td>\n",
       "      <td>83807.86</td>\n",
       "      <td>1</td>\n",
       "      <td>0</td>\n",
       "      <td>1</td>\n",
       "      <td>112542.58</td>\n",
       "      <td>0</td>\n",
       "      <td>30-50</td>\n",
       "      <td>50000-100000</td>\n",
       "    </tr>\n",
       "    <tr>\n",
       "      <th>2</th>\n",
       "      <td>15619304</td>\n",
       "      <td>Onio</td>\n",
       "      <td>502</td>\n",
       "      <td>France</td>\n",
       "      <td>Female</td>\n",
       "      <td>42</td>\n",
       "      <td>8</td>\n",
       "      <td>159660.80</td>\n",
       "      <td>3</td>\n",
       "      <td>1</td>\n",
       "      <td>0</td>\n",
       "      <td>113931.57</td>\n",
       "      <td>1</td>\n",
       "      <td>30-50</td>\n",
       "      <td>150000-200000</td>\n",
       "    </tr>\n",
       "    <tr>\n",
       "      <th>3</th>\n",
       "      <td>15701354</td>\n",
       "      <td>Boni</td>\n",
       "      <td>699</td>\n",
       "      <td>France</td>\n",
       "      <td>Female</td>\n",
       "      <td>39</td>\n",
       "      <td>1</td>\n",
       "      <td>0.00</td>\n",
       "      <td>2</td>\n",
       "      <td>0</td>\n",
       "      <td>0</td>\n",
       "      <td>93826.63</td>\n",
       "      <td>0</td>\n",
       "      <td>30-50</td>\n",
       "      <td>0-10000</td>\n",
       "    </tr>\n",
       "    <tr>\n",
       "      <th>4</th>\n",
       "      <td>15737888</td>\n",
       "      <td>Mitchell</td>\n",
       "      <td>850</td>\n",
       "      <td>Spain</td>\n",
       "      <td>Female</td>\n",
       "      <td>43</td>\n",
       "      <td>2</td>\n",
       "      <td>125510.82</td>\n",
       "      <td>1</td>\n",
       "      <td>1</td>\n",
       "      <td>1</td>\n",
       "      <td>79084.10</td>\n",
       "      <td>0</td>\n",
       "      <td>30-50</td>\n",
       "      <td>100000-150000</td>\n",
       "    </tr>\n",
       "  </tbody>\n",
       "</table>\n",
       "</div>"
      ],
      "text/plain": [
       "   CustomerId   Surname  CreditScore Geography  Gender  Age  Tenure  \\\n",
       "0    15634602  Hargrave          619    France  Female   42       2   \n",
       "1    15647311      Hill          608     Spain  Female   41       1   \n",
       "2    15619304      Onio          502    France  Female   42       8   \n",
       "3    15701354      Boni          699    France  Female   39       1   \n",
       "4    15737888  Mitchell          850     Spain  Female   43       2   \n",
       "\n",
       "     Balance  NumOfProducts  HasCrCard  IsActiveMember  EstimatedSalary  \\\n",
       "0       0.00              1          1               1        101348.88   \n",
       "1   83807.86              1          0               1        112542.58   \n",
       "2  159660.80              3          1               0        113931.57   \n",
       "3       0.00              2          0               0         93826.63   \n",
       "4  125510.82              1          1               1         79084.10   \n",
       "\n",
       "   Exited Age_Group  Balance_Group  \n",
       "0       1     30-50        0-10000  \n",
       "1       0     30-50   50000-100000  \n",
       "2       1     30-50  150000-200000  \n",
       "3       0     30-50        0-10000  \n",
       "4       0     30-50  100000-150000  "
      ]
     },
     "execution_count": 507,
     "metadata": {},
     "output_type": "execute_result"
    }
   ],
   "source": [
    "icici.head()"
   ]
  },
  {
   "cell_type": "code",
   "execution_count": 25,
   "id": "b52d8cab-491e-4b4f-beb4-e0605a88106a",
   "metadata": {},
   "outputs": [
    {
     "name": "stdout",
     "output_type": "stream",
     "text": [
      "<class 'pandas.core.frame.DataFrame'>\n",
      "RangeIndex: 10000 entries, 0 to 9999\n",
      "Data columns (total 13 columns):\n",
      " #   Column           Non-Null Count  Dtype   \n",
      "---  ------           --------------  -----   \n",
      " 0   CustomerId       10000 non-null  int64   \n",
      " 1   Surname          10000 non-null  object  \n",
      " 2   CreditScore      10000 non-null  int16   \n",
      " 3   Geography        10000 non-null  category\n",
      " 4   Gender           10000 non-null  category\n",
      " 5   Age              10000 non-null  int8    \n",
      " 6   Tenure           10000 non-null  int8    \n",
      " 7   Balance          10000 non-null  float64 \n",
      " 8   NumOfProducts    10000 non-null  int8    \n",
      " 9   HasCrCard        10000 non-null  int8    \n",
      " 10  IsActiveMember   10000 non-null  int8    \n",
      " 11  EstimatedSalary  10000 non-null  float64 \n",
      " 12  Exited           10000 non-null  int8    \n",
      "dtypes: category(2), float64(2), int16(1), int64(1), int8(6), object(1)\n",
      "memory usage: 874.0 KB\n"
     ]
    }
   ],
   "source": [
    "icici.info(memory_usage=\"deep\")"
   ]
  },
  {
   "cell_type": "code",
   "execution_count": 9,
   "id": "66a0c1e6-7a34-49a0-a4de-5b3acf745996",
   "metadata": {},
   "outputs": [
    {
     "data": {
      "text/html": [
       "<div>\n",
       "<style scoped>\n",
       "    .dataframe tbody tr th:only-of-type {\n",
       "        vertical-align: middle;\n",
       "    }\n",
       "\n",
       "    .dataframe tbody tr th {\n",
       "        vertical-align: top;\n",
       "    }\n",
       "\n",
       "    .dataframe thead th {\n",
       "        text-align: right;\n",
       "    }\n",
       "</style>\n",
       "<table border=\"1\" class=\"dataframe\">\n",
       "  <thead>\n",
       "    <tr style=\"text-align: right;\">\n",
       "      <th></th>\n",
       "      <th>CustomerId</th>\n",
       "      <th>CreditScore</th>\n",
       "      <th>Age</th>\n",
       "      <th>Tenure</th>\n",
       "      <th>Balance</th>\n",
       "      <th>NumOfProducts</th>\n",
       "      <th>HasCrCard</th>\n",
       "      <th>IsActiveMember</th>\n",
       "      <th>EstimatedSalary</th>\n",
       "      <th>Exited</th>\n",
       "    </tr>\n",
       "  </thead>\n",
       "  <tbody>\n",
       "    <tr>\n",
       "      <th>count</th>\n",
       "      <td>1.000000e+04</td>\n",
       "      <td>10000.000000</td>\n",
       "      <td>10000.000000</td>\n",
       "      <td>10000.000000</td>\n",
       "      <td>10000.000000</td>\n",
       "      <td>10000.000000</td>\n",
       "      <td>10000.00000</td>\n",
       "      <td>10000.000000</td>\n",
       "      <td>10000.000000</td>\n",
       "      <td>10000.000000</td>\n",
       "    </tr>\n",
       "    <tr>\n",
       "      <th>mean</th>\n",
       "      <td>1.569094e+07</td>\n",
       "      <td>650.528800</td>\n",
       "      <td>38.921800</td>\n",
       "      <td>5.012800</td>\n",
       "      <td>76485.889288</td>\n",
       "      <td>1.530200</td>\n",
       "      <td>0.70550</td>\n",
       "      <td>0.515100</td>\n",
       "      <td>100090.239881</td>\n",
       "      <td>0.203700</td>\n",
       "    </tr>\n",
       "    <tr>\n",
       "      <th>std</th>\n",
       "      <td>7.193619e+04</td>\n",
       "      <td>96.653299</td>\n",
       "      <td>10.487806</td>\n",
       "      <td>2.892174</td>\n",
       "      <td>62397.405202</td>\n",
       "      <td>0.581654</td>\n",
       "      <td>0.45584</td>\n",
       "      <td>0.499797</td>\n",
       "      <td>57510.492818</td>\n",
       "      <td>0.402769</td>\n",
       "    </tr>\n",
       "    <tr>\n",
       "      <th>min</th>\n",
       "      <td>1.556570e+07</td>\n",
       "      <td>350.000000</td>\n",
       "      <td>18.000000</td>\n",
       "      <td>0.000000</td>\n",
       "      <td>0.000000</td>\n",
       "      <td>1.000000</td>\n",
       "      <td>0.00000</td>\n",
       "      <td>0.000000</td>\n",
       "      <td>11.580000</td>\n",
       "      <td>0.000000</td>\n",
       "    </tr>\n",
       "    <tr>\n",
       "      <th>25%</th>\n",
       "      <td>1.562853e+07</td>\n",
       "      <td>584.000000</td>\n",
       "      <td>32.000000</td>\n",
       "      <td>3.000000</td>\n",
       "      <td>0.000000</td>\n",
       "      <td>1.000000</td>\n",
       "      <td>0.00000</td>\n",
       "      <td>0.000000</td>\n",
       "      <td>51002.110000</td>\n",
       "      <td>0.000000</td>\n",
       "    </tr>\n",
       "    <tr>\n",
       "      <th>50%</th>\n",
       "      <td>1.569074e+07</td>\n",
       "      <td>652.000000</td>\n",
       "      <td>37.000000</td>\n",
       "      <td>5.000000</td>\n",
       "      <td>97198.540000</td>\n",
       "      <td>1.000000</td>\n",
       "      <td>1.00000</td>\n",
       "      <td>1.000000</td>\n",
       "      <td>100193.915000</td>\n",
       "      <td>0.000000</td>\n",
       "    </tr>\n",
       "    <tr>\n",
       "      <th>75%</th>\n",
       "      <td>1.575323e+07</td>\n",
       "      <td>718.000000</td>\n",
       "      <td>44.000000</td>\n",
       "      <td>7.000000</td>\n",
       "      <td>127644.240000</td>\n",
       "      <td>2.000000</td>\n",
       "      <td>1.00000</td>\n",
       "      <td>1.000000</td>\n",
       "      <td>149388.247500</td>\n",
       "      <td>0.000000</td>\n",
       "    </tr>\n",
       "    <tr>\n",
       "      <th>max</th>\n",
       "      <td>1.581569e+07</td>\n",
       "      <td>850.000000</td>\n",
       "      <td>92.000000</td>\n",
       "      <td>10.000000</td>\n",
       "      <td>250898.090000</td>\n",
       "      <td>4.000000</td>\n",
       "      <td>1.00000</td>\n",
       "      <td>1.000000</td>\n",
       "      <td>199992.480000</td>\n",
       "      <td>1.000000</td>\n",
       "    </tr>\n",
       "  </tbody>\n",
       "</table>\n",
       "</div>"
      ],
      "text/plain": [
       "         CustomerId   CreditScore           Age        Tenure        Balance  \\\n",
       "count  1.000000e+04  10000.000000  10000.000000  10000.000000   10000.000000   \n",
       "mean   1.569094e+07    650.528800     38.921800      5.012800   76485.889288   \n",
       "std    7.193619e+04     96.653299     10.487806      2.892174   62397.405202   \n",
       "min    1.556570e+07    350.000000     18.000000      0.000000       0.000000   \n",
       "25%    1.562853e+07    584.000000     32.000000      3.000000       0.000000   \n",
       "50%    1.569074e+07    652.000000     37.000000      5.000000   97198.540000   \n",
       "75%    1.575323e+07    718.000000     44.000000      7.000000  127644.240000   \n",
       "max    1.581569e+07    850.000000     92.000000     10.000000  250898.090000   \n",
       "\n",
       "       NumOfProducts    HasCrCard  IsActiveMember  EstimatedSalary  \\\n",
       "count   10000.000000  10000.00000    10000.000000     10000.000000   \n",
       "mean        1.530200      0.70550        0.515100    100090.239881   \n",
       "std         0.581654      0.45584        0.499797     57510.492818   \n",
       "min         1.000000      0.00000        0.000000        11.580000   \n",
       "25%         1.000000      0.00000        0.000000     51002.110000   \n",
       "50%         1.000000      1.00000        1.000000    100193.915000   \n",
       "75%         2.000000      1.00000        1.000000    149388.247500   \n",
       "max         4.000000      1.00000        1.000000    199992.480000   \n",
       "\n",
       "             Exited  \n",
       "count  10000.000000  \n",
       "mean       0.203700  \n",
       "std        0.402769  \n",
       "min        0.000000  \n",
       "25%        0.000000  \n",
       "50%        0.000000  \n",
       "75%        0.000000  \n",
       "max        1.000000  "
      ]
     },
     "execution_count": 9,
     "metadata": {},
     "output_type": "execute_result"
    }
   ],
   "source": [
    "icici.describe()"
   ]
  },
  {
   "cell_type": "code",
   "execution_count": 19,
   "id": "3212c0d1-8926-4125-8028-27138cbfc637",
   "metadata": {},
   "outputs": [
    {
     "data": {
      "text/plain": [
       "Geography\n",
       "France     5014\n",
       "Germany    2509\n",
       "Spain      2477\n",
       "Name: count, dtype: int64"
      ]
     },
     "execution_count": 19,
     "metadata": {},
     "output_type": "execute_result"
    }
   ],
   "source": [
    "icici[\"Geography\"].value_counts()"
   ]
  },
  {
   "cell_type": "code",
   "execution_count": null,
   "id": "aa54c9bf-278a-4ad2-b24d-29defff85259",
   "metadata": {},
   "outputs": [],
   "source": []
  },
  {
   "cell_type": "code",
   "execution_count": null,
   "id": "33f4eced-fa8d-4de7-9844-675ac5d33466",
   "metadata": {},
   "outputs": [],
   "source": [
    "# Data Cleaning  (Memory Optimization [2.3 MB ➡️ 870 KB]"
   ]
  },
  {
   "cell_type": "code",
   "execution_count": null,
   "id": "1c03418c-c62f-4477-a47e-81129f97a898",
   "metadata": {},
   "outputs": [],
   "source": []
  },
  {
   "cell_type": "code",
   "execution_count": 5,
   "id": "4b6c80d9-ba53-4e66-a274-3d9afe8ad253",
   "metadata": {},
   "outputs": [],
   "source": [
    "icici = icici.astype({\n",
    "    \"CreditScore\":\"int16\",\n",
    "    \"Geography\":\"category\",\n",
    "    \"Gender\":\"category\",\n",
    "    \"Age\":\"int8\",\n",
    "    \"Tenure\":\"int8\",\n",
    "    \"NumOfProducts\":\"int8\",\n",
    "    \"HasCrCard\":\"int8\",\n",
    "    \"IsActiveMember\":\"int8\",\n",
    "    \"Exited\":\"int8\"\n",
    "})"
   ]
  },
  {
   "cell_type": "code",
   "execution_count": 37,
   "id": "75b66ec4-d7d8-49de-ba26-1474c70ec272",
   "metadata": {},
   "outputs": [],
   "source": [
    "age_conditions = [\n",
    "    (icici[\"Age\"] >= 18) & (icici[\"Age\"] <= 30),\n",
    "    (icici[\"Age\"] > 30) & (icici[\"Age\"] <= 50),\n",
    "    (icici[\"Age\"] > 50) & (icici[\"Age\"] <= 70),\n",
    "    (icici[\"Age\"] > 70) & (icici[\"Age\"] <= 80),\n",
    "    (icici[\"Age\"] > 80)\n",
    "]"
   ]
  },
  {
   "cell_type": "code",
   "execution_count": 39,
   "id": "ae402e2e-3cd7-4c44-807e-dcffdd93ba26",
   "metadata": {},
   "outputs": [],
   "source": [
    "age_output = [\"18-30\",\"30-50\",\"50-70\",\"70-80\",\"Above 80\"]"
   ]
  },
  {
   "cell_type": "code",
   "execution_count": 41,
   "id": "2427d132-aa15-4cc1-9b6c-a42417f5a4c9",
   "metadata": {},
   "outputs": [],
   "source": [
    "icici[\"Age_Group\"] = np.select(age_conditions,age_output)"
   ]
  },
  {
   "cell_type": "code",
   "execution_count": null,
   "id": "1c793376-5816-4304-a6e5-6402c90573cd",
   "metadata": {},
   "outputs": [],
   "source": []
  },
  {
   "cell_type": "code",
   "execution_count": null,
   "id": "c1bd9810-3344-47ca-87d1-9fa89b91b34d",
   "metadata": {},
   "outputs": [],
   "source": []
  },
  {
   "cell_type": "code",
   "execution_count": null,
   "id": "5499e6c8-2753-4a5d-a6ac-2bda50c53905",
   "metadata": {},
   "outputs": [],
   "source": [
    "# Churn Rate Calculation: Compute the overall customer churn percentage."
   ]
  },
  {
   "cell_type": "code",
   "execution_count": null,
   "id": "524cc64f-329e-48c5-8808-8a3308a830ed",
   "metadata": {},
   "outputs": [],
   "source": []
  },
  {
   "cell_type": "code",
   "execution_count": 63,
   "id": "86841dc7-f1ee-46fe-8d23-f0bf603d3b25",
   "metadata": {},
   "outputs": [],
   "source": [
    "Churn_rate = ((icici[\"CustomerId\"].loc[icici[\"Exited\"] == 1].count()/icici[\"CustomerId\"].count())*100).round(2)"
   ]
  },
  {
   "cell_type": "code",
   "execution_count": 65,
   "id": "923d7991-0df3-45d9-ac68-2eef80e9476a",
   "metadata": {},
   "outputs": [],
   "source": [
    "icici[\"Churn Rate\"] = Churn_rate"
   ]
  },
  {
   "cell_type": "code",
   "execution_count": 69,
   "id": "38c198f5-6397-40ec-8eb6-672e50bad0f0",
   "metadata": {},
   "outputs": [],
   "source": [
    "icici.drop(\"Churn Rate\",axis=1,inplace=True)"
   ]
  },
  {
   "cell_type": "code",
   "execution_count": null,
   "id": "d35a7a70-ddc2-4778-bea5-8cdec3d541c3",
   "metadata": {},
   "outputs": [],
   "source": []
  },
  {
   "cell_type": "code",
   "execution_count": null,
   "id": "89b52307-2e33-4afa-addf-284534a298cd",
   "metadata": {},
   "outputs": [],
   "source": [
    "# Churn by Gender: Visualize the churn rate across different genders."
   ]
  },
  {
   "cell_type": "code",
   "execution_count": null,
   "id": "96852e23-6368-4040-a26c-a89c136123b7",
   "metadata": {},
   "outputs": [],
   "source": []
  },
  {
   "cell_type": "code",
   "execution_count": 7,
   "id": "d8ddd18f-0cbf-417f-b9fc-19b5d316a716",
   "metadata": {},
   "outputs": [],
   "source": [
    "gender_churn = icici.loc[icici[\"Exited\"] == 1,:].groupby(\"Gender\",observed=False).agg(Total_Churn = (\"Exited\",\"count\")).reset_index()"
   ]
  },
  {
   "cell_type": "code",
   "execution_count": 9,
   "id": "9974583c-1c3b-4961-a19c-9158020124b8",
   "metadata": {},
   "outputs": [],
   "source": [
    "gender_churn[\"Churn_Rate\"] = ((gender_churn[\"Total_Churn\"]/icici[\"CustomerId\"].count())*100).round(2)"
   ]
  },
  {
   "cell_type": "code",
   "execution_count": 11,
   "id": "5d130cae-0c23-4f0a-8114-fdd800554525",
   "metadata": {},
   "outputs": [
    {
     "data": {
      "text/html": [
       "<div>\n",
       "<style scoped>\n",
       "    .dataframe tbody tr th:only-of-type {\n",
       "        vertical-align: middle;\n",
       "    }\n",
       "\n",
       "    .dataframe tbody tr th {\n",
       "        vertical-align: top;\n",
       "    }\n",
       "\n",
       "    .dataframe thead th {\n",
       "        text-align: right;\n",
       "    }\n",
       "</style>\n",
       "<table border=\"1\" class=\"dataframe\">\n",
       "  <thead>\n",
       "    <tr style=\"text-align: right;\">\n",
       "      <th></th>\n",
       "      <th>Gender</th>\n",
       "      <th>Total_Churn</th>\n",
       "      <th>Churn_Rate</th>\n",
       "    </tr>\n",
       "  </thead>\n",
       "  <tbody>\n",
       "    <tr>\n",
       "      <th>0</th>\n",
       "      <td>Female</td>\n",
       "      <td>1139</td>\n",
       "      <td>11.39</td>\n",
       "    </tr>\n",
       "    <tr>\n",
       "      <th>1</th>\n",
       "      <td>Male</td>\n",
       "      <td>898</td>\n",
       "      <td>8.98</td>\n",
       "    </tr>\n",
       "  </tbody>\n",
       "</table>\n",
       "</div>"
      ],
      "text/plain": [
       "   Gender  Total_Churn  Churn_Rate\n",
       "0  Female         1139       11.39\n",
       "1    Male          898        8.98"
      ]
     },
     "execution_count": 11,
     "metadata": {},
     "output_type": "execute_result"
    }
   ],
   "source": [
    "gender_churn"
   ]
  },
  {
   "cell_type": "code",
   "execution_count": 27,
   "id": "a490754b-0b2b-4b75-9478-b48e599595f3",
   "metadata": {},
   "outputs": [
    {
     "data": {
      "image/png": "[encoded data removed]",
      "text/plain": [
       "<Figure size 640x480 with 1 Axes>"
      ]
     },
     "metadata": {},
     "output_type": "display_data"
    }
   ],
   "source": [
    "plt.pie(\n",
    "    x = gender_churn[\"Total_Churn\"],\n",
    "    labels = gender_churn[\"Gender\"],\n",
    "    autopct = \"%0.2f%%\",\n",
    "    startangle = 90,\n",
    "    radius = 0.8,\n",
    "    colors = [\"r\",\"g\"],\n",
    "    counterclock= False\n",
    ")\n",
    "plt.show()"
   ]
  },
  {
   "cell_type": "code",
   "execution_count": null,
   "id": "38054f2c-f3b2-43fe-b92f-d2d1d1dab627",
   "metadata": {},
   "outputs": [],
   "source": []
  },
  {
   "cell_type": "code",
   "execution_count": null,
   "id": "f1dc7013-0eff-485d-b0e4-92f8d7d704d1",
   "metadata": {},
   "outputs": [],
   "source": [
    "# Age Distribution Analysis: Create a histogram of customer ages and analyze the impact on churn."
   ]
  },
  {
   "cell_type": "code",
   "execution_count": null,
   "id": "4b18e7d9-9a09-4ff9-81c4-85c8ebdfdc55",
   "metadata": {},
   "outputs": [],
   "source": []
  },
  {
   "cell_type": "code",
   "execution_count": 163,
   "id": "9aadb5d0-ba24-4d5a-8804-244d9c301ab6",
   "metadata": {},
   "outputs": [],
   "source": [
    "churn_age = icici.loc[icici[\"Exited\"] == 1,[\"Age\",\"Exited\"]]"
   ]
  },
  {
   "cell_type": "code",
   "execution_count": 201,
   "id": "c19d5f63-50ab-403f-82e9-c170c365f192",
   "metadata": {},
   "outputs": [
    {
     "data": {
      "image/png": "[encoded data removed]",
      "text/plain": [
       "<Figure size 1200x600 with 1 Axes>"
      ]
     },
     "metadata": {},
     "output_type": "display_data"
    }
   ],
   "source": [
    "plt.figure(figsize=(12,6))\n",
    "min_age = churn_age[\"Age\"].min()\n",
    "max_age = churn_age[\"Age\"].max()\n",
    "b =  np.arange(min_age, max_age +1, 5)\n",
    "sns.histplot(\n",
    "    x = churn_age[\"Age\"],\n",
    "    data = churn_age,\n",
    "    bins = b,\n",
    "    edgecolor = \"w\",\n",
    "    color = \"c\"\n",
    ")\n",
    "plt.xticks(b)\n",
    "plt.show()"
   ]
  },
  {
   "cell_type": "code",
   "execution_count": null,
   "id": "92641e3a-6ff9-466e-8301-3c96bb108d9e",
   "metadata": {},
   "outputs": [],
   "source": []
  },
  {
   "cell_type": "code",
   "execution_count": null,
   "id": "8c68be3a-f2da-430f-8dbf-34c1f6ebbc6e",
   "metadata": {},
   "outputs": [],
   "source": [
    "# Churn vs. Balance Scatter Plot: Does having a higher account balance reduce churn?"
   ]
  },
  {
   "cell_type": "code",
   "execution_count": null,
   "id": "0257f8e2-f332-4dbf-8bef-b79a45c8fb6f",
   "metadata": {},
   "outputs": [],
   "source": []
  },
  {
   "cell_type": "code",
   "execution_count": 215,
   "id": "9218ede4-1909-46a0-8b34-97d23d34906f",
   "metadata": {},
   "outputs": [
    {
     "data": {
      "image/png": "[encoded data removed]",
      "text/plain": [
       "<Figure size 640x480 with 1 Axes>"
      ]
     },
     "metadata": {},
     "output_type": "display_data"
    }
   ],
   "source": [
    "sns.scatterplot(\n",
    "    x = icici[\"Balance\"],\n",
    "    y = icici[\"Exited\"],\n",
    "    data = icici,\n",
    "    hue = icici[\"Exited\"]\n",
    ")\n",
    "plt.legend(bbox_to_anchor=(1,1))\n",
    "plt.show()\n"
   ]
  },
  {
   "cell_type": "code",
   "execution_count": null,
   "id": "cd12696a-9e9a-423f-908e-52ae51ddf886",
   "metadata": {},
   "outputs": [],
   "source": []
  },
  {
   "cell_type": "code",
   "execution_count": null,
   "id": "bb465069-620e-44bc-96b8-afc6e7b8a93e",
   "metadata": {},
   "outputs": [],
   "source": [
    "# Correlation Heatmap: Identify which features are most correlated with churn."
   ]
  },
  {
   "cell_type": "code",
   "execution_count": null,
   "id": "14494a00-6463-4580-b5fd-eef93d18e934",
   "metadata": {},
   "outputs": [],
   "source": []
  },
  {
   "cell_type": "code",
   "execution_count": 231,
   "id": "3ada3a10-00a5-4d27-a92f-cd88e3b4043d",
   "metadata": {},
   "outputs": [],
   "source": [
    "co_relation = icici.loc[:,[\"Age\",\"Balance\",\"Tenure\",\"CreditScore\",\"HasCrCard\",\"NumOfProducts\",\"EstimatedSalary\",\"Exited\"]].corr()"
   ]
  },
  {
   "cell_type": "code",
   "execution_count": 267,
   "id": "4feb453c-1e58-49a8-82e1-fb34fbbebb6a",
   "metadata": {},
   "outputs": [],
   "source": [
    "exited_co_relation = co_relation.loc[:,[\"Exited\"]]"
   ]
  },
  {
   "cell_type": "code",
   "execution_count": 273,
   "id": "1b3890ee-84ab-4e61-ab40-df2356a5e7f6",
   "metadata": {},
   "outputs": [
    {
     "data": {
      "image/png": "[encoded data removed]",
      "text/plain": [
       "<Figure size 640x480 with 2 Axes>"
      ]
     },
     "metadata": {},
     "output_type": "display_data"
    }
   ],
   "source": [
    "sns.heatmap(\n",
    "    data = exited_co_relation,\n",
    "    annot=True,\n",
    "    fmt = \".2f\",\n",
    "    cmap= \"magma_r\"\n",
    ")\n",
    "plt.show()"
   ]
  },
  {
   "cell_type": "code",
   "execution_count": null,
   "id": "5891896e-b410-4f05-a7cc-d0feddf87381",
   "metadata": {},
   "outputs": [],
   "source": []
  },
  {
   "cell_type": "code",
   "execution_count": null,
   "id": "7bf6c2c1-a115-4465-8b6a-29a02df0a028",
   "metadata": {},
   "outputs": [],
   "source": [
    "# Geographic Churn Distribution: Which locations have the highest churn rates?"
   ]
  },
  {
   "cell_type": "code",
   "execution_count": null,
   "id": "63c591ce-9e10-4797-bfab-f5e701e49c9c",
   "metadata": {},
   "outputs": [],
   "source": []
  },
  {
   "cell_type": "code",
   "execution_count": 277,
   "id": "ae46babc-4d31-4dc1-a692-30b74556d0cf",
   "metadata": {},
   "outputs": [],
   "source": [
    "geographic_churn = icici.loc[icici[\"Exited\"] == 1,:].groupby(\n",
    "    \"Geography\",observed=False\n",
    ").agg(Total_Churn = (\"Exited\",\"count\")).reset_index()"
   ]
  },
  {
   "cell_type": "code",
   "execution_count": 315,
   "id": "db60b3e2-32ab-4c0a-b8a8-2db3fc1892ff",
   "metadata": {},
   "outputs": [
    {
     "data": {
      "image/png": "[encoded data removed]",
      "text/plain": [
       "<Figure size 640x480 with 1 Axes>"
      ]
     },
     "metadata": {},
     "output_type": "display_data"
    }
   ],
   "source": [
    "l = []\n",
    "for label in geographic_churn[\"Total_Churn\"]:\n",
    "    l.append(label*0.0)\n",
    "l[1] = 0.08\n",
    "ex = l\n",
    "plt.pie(\n",
    "    x = geographic_churn[\"Total_Churn\"],\n",
    "    labels = geographic_churn[\"Geography\"],\n",
    "    autopct = \"%0.2f%%\",\n",
    "    startangle = 90,\n",
    "    explode=ex\n",
    ")\n",
    "plt.show()"
   ]
  },
  {
   "cell_type": "code",
   "execution_count": null,
   "id": "4e92c296-935c-4f00-adbe-0323add8b245",
   "metadata": {},
   "outputs": [],
   "source": []
  },
  {
   "cell_type": "code",
   "execution_count": null,
   "id": "73a1420f-98b8-49c5-82a8-d292f5187650",
   "metadata": {},
   "outputs": [],
   "source": [
    "# Boxplot Analysis: Compare balance distributions between churned and non-churned customers."
   ]
  },
  {
   "cell_type": "code",
   "execution_count": null,
   "id": "7ed99600-1e4d-4893-8d2f-9697fc2571c4",
   "metadata": {},
   "outputs": [],
   "source": []
  },
  {
   "cell_type": "code",
   "execution_count": 335,
   "id": "352c3d09-a882-48cd-873d-e6616dc0d924",
   "metadata": {},
   "outputs": [
    {
     "data": {
      "image/png": "[encoded data removed]",
      "text/plain": [
       "<Figure size 640x480 with 1 Axes>"
      ]
     },
     "metadata": {},
     "output_type": "display_data"
    }
   ],
   "source": [
    "sns.boxplot(\n",
    "    x = icici[\"Exited\"],\n",
    "    y = icici[\"Balance\"],\n",
    "    data = icici,\n",
    "    showmeans = True,\n",
    "    hue = icici[\"Exited\"],\n",
    "    palette = [\"g\",\"r\"],\n",
    "    legend = False\n",
    ")\n",
    "plt.show()"
   ]
  },
  {
   "cell_type": "code",
   "execution_count": null,
   "id": "b767e878-a4f6-4733-b46e-8a6dfe61a47c",
   "metadata": {},
   "outputs": [],
   "source": []
  },
  {
   "cell_type": "code",
   "execution_count": null,
   "id": "4d396495-a17a-451f-a79e-f62fb2399c25",
   "metadata": {},
   "outputs": [],
   "source": [
    "# Tenure vs. Churn Rate: How does the length of customer tenure affect churn likelihood?"
   ]
  },
  {
   "cell_type": "code",
   "execution_count": null,
   "id": "0b4997f7-769d-45e7-89fa-8b577aae80d0",
   "metadata": {},
   "outputs": [],
   "source": []
  },
  {
   "cell_type": "code",
   "execution_count": 339,
   "id": "ac7d7ea8-ff1c-4d10-a9ff-98507980c1c7",
   "metadata": {},
   "outputs": [
    {
     "data": {
      "text/html": [
       "<div>\n",
       "<style scoped>\n",
       "    .dataframe tbody tr th:only-of-type {\n",
       "        vertical-align: middle;\n",
       "    }\n",
       "\n",
       "    .dataframe tbody tr th {\n",
       "        vertical-align: top;\n",
       "    }\n",
       "\n",
       "    .dataframe thead th {\n",
       "        text-align: right;\n",
       "    }\n",
       "</style>\n",
       "<table border=\"1\" class=\"dataframe\">\n",
       "  <thead>\n",
       "    <tr style=\"text-align: right;\">\n",
       "      <th></th>\n",
       "      <th>Tenure</th>\n",
       "      <th>Exited</th>\n",
       "    </tr>\n",
       "  </thead>\n",
       "  <tbody>\n",
       "    <tr>\n",
       "      <th>Tenure</th>\n",
       "      <td>1.000000</td>\n",
       "      <td>-0.014001</td>\n",
       "    </tr>\n",
       "    <tr>\n",
       "      <th>Exited</th>\n",
       "      <td>-0.014001</td>\n",
       "      <td>1.000000</td>\n",
       "    </tr>\n",
       "  </tbody>\n",
       "</table>\n",
       "</div>"
      ],
      "text/plain": [
       "          Tenure    Exited\n",
       "Tenure  1.000000 -0.014001\n",
       "Exited -0.014001  1.000000"
      ]
     },
     "execution_count": 339,
     "metadata": {},
     "output_type": "execute_result"
    }
   ],
   "source": [
    "# icici[\"Tenure\"].corr(icici[\"Exited\"])\n",
    "icici.loc[:,[\"Tenure\",\"Exited\"]].corr()"
   ]
  },
  {
   "cell_type": "code",
   "execution_count": null,
   "id": "1c89fb59-8035-41b6-ac95-ce927d52e908",
   "metadata": {},
   "outputs": [],
   "source": []
  },
  {
   "cell_type": "code",
   "execution_count": null,
   "id": "f94349ab-df8f-4dd3-815c-c27a42e2f583",
   "metadata": {},
   "outputs": [],
   "source": [
    "# Product Ownership & Churn: Create a bar chart comparing churn rates based on the number of bank products owned."
   ]
  },
  {
   "cell_type": "code",
   "execution_count": null,
   "id": "e133a614-f934-4bfb-bd19-b60aa5a0d623",
   "metadata": {},
   "outputs": [],
   "source": []
  },
  {
   "cell_type": "code",
   "execution_count": 345,
   "id": "49d9a5cc-e172-4190-aedc-fd85f072e829",
   "metadata": {},
   "outputs": [],
   "source": [
    "product_churn = icici.loc[icici[\"Exited\"] == 1,:].groupby(\n",
    "    \"NumOfProducts\",observed=False\n",
    ").agg(Total_Churn = (\"Exited\",\"count\")).reset_index()"
   ]
  },
  {
   "cell_type": "code",
   "execution_count": 347,
   "id": "92934d50-a4ae-4dbf-ad1d-7b970afb4986",
   "metadata": {},
   "outputs": [],
   "source": [
    "product_churn[\"Churn_Rate\"] = ((product_churn[\"Total_Churn\"]/product_churn[\"Total_Churn\"].sum())*100).round(2)"
   ]
  },
  {
   "cell_type": "code",
   "execution_count": 369,
   "id": "39dc956e-bf23-46fb-818f-66a13ebfaaad",
   "metadata": {},
   "outputs": [
    {
     "data": {
      "image/png": "[encoded data removed]",
      "text/plain": [
       "<Figure size 640x480 with 1 Axes>"
      ]
     },
     "metadata": {},
     "output_type": "display_data"
    }
   ],
   "source": [
    "ax = sns.barplot(\n",
    "    x = \"NumOfProducts\",\n",
    "    y = \"Churn_Rate\",\n",
    "    data = product_churn,\n",
    "    color=\"grey\"\n",
    ")\n",
    "for p in ax.patches:\n",
    "    ax.annotate(f\"{p.get_height()}\",(p.get_x()+p.get_width()/2,p.get_height()),ha=\"center\",va=\"bottom\")\n",
    "plt.show()"
   ]
  },
  {
   "cell_type": "code",
   "execution_count": null,
   "id": "05ead822-fdcb-4272-9936-c0cf29985e00",
   "metadata": {},
   "outputs": [],
   "source": []
  },
  {
   "cell_type": "code",
   "execution_count": null,
   "id": "bd5fdf10-1452-4662-8aa1-9ccdea408bcf",
   "metadata": {},
   "outputs": [],
   "source": [
    "# Credit Score Impact: Use a violin plot to show the impact of credit scores on churn."
   ]
  },
  {
   "cell_type": "code",
   "execution_count": null,
   "id": "66df8b0b-3176-4c36-b9fc-a7634e29127b",
   "metadata": {},
   "outputs": [],
   "source": []
  },
  {
   "cell_type": "code",
   "execution_count": 375,
   "id": "eea5754d-2015-45f2-a00e-0c9da1a4a011",
   "metadata": {},
   "outputs": [
    {
     "data": {
      "image/png": "[encoded data removed]",
      "text/plain": [
       "<Figure size 640x480 with 1 Axes>"
      ]
     },
     "metadata": {},
     "output_type": "display_data"
    }
   ],
   "source": [
    "sns.violinplot(\n",
    "    x = \"Exited\",\n",
    "    y = \"CreditScore\",\n",
    "    data = icici,\n",
    "    color=\"grey\"\n",
    "    \n",
    ")\n",
    "plt.show()"
   ]
  },
  {
   "cell_type": "code",
   "execution_count": null,
   "id": "0ee224c1-cedc-4adf-8b76-59077c4fee02",
   "metadata": {},
   "outputs": [],
   "source": []
  },
  {
   "cell_type": "code",
   "execution_count": null,
   "id": "98b5bb06-fb12-4a95-9d72-5a1fa6f9a96b",
   "metadata": {},
   "outputs": [],
   "source": [
    "# Salary Distribution: What is the estimated salary range of churned vs. retained customers?"
   ]
  },
  {
   "cell_type": "code",
   "execution_count": null,
   "id": "f20955b3-61c0-4d5d-bc80-bf45552f80cd",
   "metadata": {},
   "outputs": [],
   "source": []
  },
  {
   "cell_type": "code",
   "execution_count": 379,
   "id": "4cd72693-d65b-4b7e-9441-889175b21cda",
   "metadata": {},
   "outputs": [
    {
     "data": {
      "text/html": [
       "<div>\n",
       "<style scoped>\n",
       "    .dataframe tbody tr th:only-of-type {\n",
       "        vertical-align: middle;\n",
       "    }\n",
       "\n",
       "    .dataframe tbody tr th {\n",
       "        vertical-align: top;\n",
       "    }\n",
       "\n",
       "    .dataframe thead th {\n",
       "        text-align: right;\n",
       "    }\n",
       "</style>\n",
       "<table border=\"1\" class=\"dataframe\">\n",
       "  <thead>\n",
       "    <tr style=\"text-align: right;\">\n",
       "      <th></th>\n",
       "      <th>Average_Salary</th>\n",
       "    </tr>\n",
       "    <tr>\n",
       "      <th>Exited</th>\n",
       "      <th></th>\n",
       "    </tr>\n",
       "  </thead>\n",
       "  <tbody>\n",
       "    <tr>\n",
       "      <th>0</th>\n",
       "      <td>99738.39</td>\n",
       "    </tr>\n",
       "    <tr>\n",
       "      <th>1</th>\n",
       "      <td>101465.68</td>\n",
       "    </tr>\n",
       "  </tbody>\n",
       "</table>\n",
       "</div>"
      ],
      "text/plain": [
       "        Average_Salary\n",
       "Exited                \n",
       "0             99738.39\n",
       "1            101465.68"
      ]
     },
     "execution_count": 379,
     "metadata": {},
     "output_type": "execute_result"
    }
   ],
   "source": [
    "icici.groupby(\"Exited\",observed=False).agg(Average_Salary=(\"EstimatedSalary\",\"mean\")).round(2)"
   ]
  },
  {
   "cell_type": "code",
   "execution_count": null,
   "id": "5f759bb8-812f-4404-8921-bda6f8ae3a6e",
   "metadata": {},
   "outputs": [],
   "source": []
  },
  {
   "cell_type": "code",
   "execution_count": null,
   "id": "b500d765-63a8-4fb9-ad37-0a289b383a15",
   "metadata": {},
   "outputs": [],
   "source": [
    "# Pie Chart of Product Ownership: Show the percentage of customers using different numbers of bank products."
   ]
  },
  {
   "cell_type": "code",
   "execution_count": null,
   "id": "90ae7fe6-5a20-4eb9-999a-ff2432d5deef",
   "metadata": {},
   "outputs": [],
   "source": []
  },
  {
   "cell_type": "code",
   "execution_count": 383,
   "id": "4d0b1baa-cb97-48d3-86a2-a1516076e920",
   "metadata": {},
   "outputs": [],
   "source": [
    "product_using_percent = icici.groupby(\n",
    "    \"NumOfProducts\",observed=False\n",
    ").agg(Total_Customer_Using = (\"CustomerId\",\"count\")).reset_index()"
   ]
  },
  {
   "cell_type": "code",
   "execution_count": 433,
   "id": "a08e0adb-b512-4631-8fdd-f5553e4be52f",
   "metadata": {},
   "outputs": [
    {
     "data": {
      "image/png": "[encoded data removed]",
      "text/plain": [
       "<Figure size 640x480 with 1 Axes>"
      ]
     },
     "metadata": {},
     "output_type": "display_data"
    }
   ],
   "source": [
    "plt.pie(\n",
    "    x = product_using_percent[\"Total_Customer_Using\"],\n",
    "    labels = product_using_percent[\"NumOfProducts\"],\n",
    "    autopct = \"%0.2f%%\",\n",
    "    startangle = -90,\n",
    "    pctdistance=0.5,\n",
    "    textprops={\"fontsize\":10}\n",
    ")\n",
    "plt.tight_layout()\n",
    "plt.show()"
   ]
  },
  {
   "cell_type": "code",
   "execution_count": null,
   "id": "9fffbba7-28e6-4e03-9a2a-ac68dd02436f",
   "metadata": {},
   "outputs": [],
   "source": []
  },
  {
   "cell_type": "code",
   "execution_count": null,
   "id": "590e9e73-7a7b-4226-b8d8-6bc91dda5821",
   "metadata": {},
   "outputs": [],
   "source": [
    "# Distribution of Active Customers: Show the proportion of active customers vs. non-active ones."
   ]
  },
  {
   "cell_type": "code",
   "execution_count": null,
   "id": "9e45681b-24b6-43fa-89ca-fd82c6abdbc1",
   "metadata": {},
   "outputs": [],
   "source": []
  },
  {
   "cell_type": "code",
   "execution_count": 457,
   "id": "ff368c6c-130f-421a-98fc-c3d1a8eda0a5",
   "metadata": {},
   "outputs": [
    {
     "data": {
      "image/png": "[encoded data removed]",
      "text/plain": [
       "<Figure size 640x480 with 1 Axes>"
      ]
     },
     "metadata": {},
     "output_type": "display_data"
    }
   ],
   "source": [
    "icici.groupby(\"Exited\",observed=False)[[\"CustomerId\"]].count().plot.pie(y=\"CustomerId\",autopct=\"%0.2f%%\",colors=[\"g\",\"r\"],explode=[0.0,0.07]);"
   ]
  },
  {
   "cell_type": "code",
   "execution_count": null,
   "id": "07aa0c54-c9ee-49bd-bd65-92990d502e9b",
   "metadata": {},
   "outputs": [],
   "source": []
  },
  {
   "cell_type": "code",
   "execution_count": null,
   "id": "fef9426f-ee55-4eda-8a27-6708e56fbbf5",
   "metadata": {},
   "outputs": [],
   "source": [
    "# Average Tenure per Age Group: What is the average tenure of customers in different age groups?"
   ]
  },
  {
   "cell_type": "code",
   "execution_count": null,
   "id": "844716cc-eb03-4451-bae3-f67c36e7f3fa",
   "metadata": {},
   "outputs": [],
   "source": []
  },
  {
   "cell_type": "code",
   "execution_count": 463,
   "id": "0aec5264-11fd-47bb-b353-84a46c4eeece",
   "metadata": {},
   "outputs": [
    {
     "data": {
      "text/html": [
       "<div>\n",
       "<style scoped>\n",
       "    .dataframe tbody tr th:only-of-type {\n",
       "        vertical-align: middle;\n",
       "    }\n",
       "\n",
       "    .dataframe tbody tr th {\n",
       "        vertical-align: top;\n",
       "    }\n",
       "\n",
       "    .dataframe thead th {\n",
       "        text-align: right;\n",
       "    }\n",
       "</style>\n",
       "<table border=\"1\" class=\"dataframe\">\n",
       "  <thead>\n",
       "    <tr style=\"text-align: right;\">\n",
       "      <th></th>\n",
       "      <th>Tenure</th>\n",
       "    </tr>\n",
       "    <tr>\n",
       "      <th>Age_Group</th>\n",
       "      <th></th>\n",
       "    </tr>\n",
       "  </thead>\n",
       "  <tbody>\n",
       "    <tr>\n",
       "      <th>18-30</th>\n",
       "      <td>5.08</td>\n",
       "    </tr>\n",
       "    <tr>\n",
       "      <th>30-50</th>\n",
       "      <td>5.00</td>\n",
       "    </tr>\n",
       "    <tr>\n",
       "      <th>50-70</th>\n",
       "      <td>4.95</td>\n",
       "    </tr>\n",
       "    <tr>\n",
       "      <th>70-80</th>\n",
       "      <td>4.99</td>\n",
       "    </tr>\n",
       "    <tr>\n",
       "      <th>Above 80</th>\n",
       "      <td>5.50</td>\n",
       "    </tr>\n",
       "  </tbody>\n",
       "</table>\n",
       "</div>"
      ],
      "text/plain": [
       "           Tenure\n",
       "Age_Group        \n",
       "18-30        5.08\n",
       "30-50        5.00\n",
       "50-70        4.95\n",
       "70-80        4.99\n",
       "Above 80     5.50"
      ]
     },
     "execution_count": 463,
     "metadata": {},
     "output_type": "execute_result"
    }
   ],
   "source": [
    "icici.groupby(\"Age_Group\",observed=False)[[\"Tenure\"]].mean().round(2)"
   ]
  },
  {
   "cell_type": "code",
   "execution_count": null,
   "id": "4489ab8b-8686-4116-a9f2-7938c09ca180",
   "metadata": {},
   "outputs": [],
   "source": []
  },
  {
   "cell_type": "code",
   "execution_count": null,
   "id": "416df676-7455-4a1a-abcf-2e74b789b94c",
   "metadata": {},
   "outputs": [],
   "source": [
    "# Comparison of Credit Card Users: Do customers with credit cards have a different churn rate than those without?"
   ]
  },
  {
   "cell_type": "code",
   "execution_count": null,
   "id": "5db3e2cf-31bc-4b74-a508-05a0aca0f085",
   "metadata": {},
   "outputs": [],
   "source": []
  },
  {
   "cell_type": "code",
   "execution_count": 477,
   "id": "3528fbee-6006-498c-a02d-d1a2af8da4dd",
   "metadata": {},
   "outputs": [],
   "source": [
    "credit_churn = icici.pivot_table(\n",
    "    index = \"HasCrCard\",\n",
    "    columns = \"Exited\",\n",
    "    values = \"CustomerId\",\n",
    "    aggfunc = \"count\",\n",
    "    observed = False\n",
    ")"
   ]
  },
  {
   "cell_type": "code",
   "execution_count": 497,
   "id": "9170e8e2-88e8-4111-b890-83b67cc501a3",
   "metadata": {},
   "outputs": [],
   "source": [
    "credit_churn[\"Churn_Rate\"] = ((credit_churn.loc[:,1]/credit_churn.iloc[0].sum())*100).round(2)"
   ]
  },
  {
   "cell_type": "code",
   "execution_count": 499,
   "id": "bd30892e-4bed-4c8c-b486-eea0a7e977f0",
   "metadata": {},
   "outputs": [
    {
     "data": {
      "text/html": [
       "<div>\n",
       "<style scoped>\n",
       "    .dataframe tbody tr th:only-of-type {\n",
       "        vertical-align: middle;\n",
       "    }\n",
       "\n",
       "    .dataframe tbody tr th {\n",
       "        vertical-align: top;\n",
       "    }\n",
       "\n",
       "    .dataframe thead th {\n",
       "        text-align: right;\n",
       "    }\n",
       "</style>\n",
       "<table border=\"1\" class=\"dataframe\">\n",
       "  <thead>\n",
       "    <tr style=\"text-align: right;\">\n",
       "      <th>Exited</th>\n",
       "      <th>0</th>\n",
       "      <th>1</th>\n",
       "      <th>Churn_Rate</th>\n",
       "    </tr>\n",
       "    <tr>\n",
       "      <th>HasCrCard</th>\n",
       "      <th></th>\n",
       "      <th></th>\n",
       "      <th></th>\n",
       "    </tr>\n",
       "  </thead>\n",
       "  <tbody>\n",
       "    <tr>\n",
       "      <th>0</th>\n",
       "      <td>2332</td>\n",
       "      <td>613</td>\n",
       "      <td>20.81</td>\n",
       "    </tr>\n",
       "    <tr>\n",
       "      <th>1</th>\n",
       "      <td>5631</td>\n",
       "      <td>1424</td>\n",
       "      <td>48.35</td>\n",
       "    </tr>\n",
       "  </tbody>\n",
       "</table>\n",
       "</div>"
      ],
      "text/plain": [
       "Exited        0     1  Churn_Rate\n",
       "HasCrCard                        \n",
       "0          2332   613       20.81\n",
       "1          5631  1424       48.35"
      ]
     },
     "execution_count": 499,
     "metadata": {},
     "output_type": "execute_result"
    }
   ],
   "source": [
    "credit_churn"
   ]
  },
  {
   "cell_type": "code",
   "execution_count": null,
   "id": "fbde7e0a-f41f-44eb-af81-9f6f9e86e968",
   "metadata": {},
   "outputs": [],
   "source": []
  },
  {
   "cell_type": "code",
   "execution_count": null,
   "id": "8de4b55b-8fec-472d-9f6a-01cf2bc7bc99",
   "metadata": {},
   "outputs": [],
   "source": [
    "# Account Balance Categories: Categorize customers into different balance groups and analyze their churn behavior."
   ]
  },
  {
   "cell_type": "code",
   "execution_count": null,
   "id": "f8836d3a-aff1-4369-b7c5-fa70b75b4191",
   "metadata": {},
   "outputs": [],
   "source": []
  },
  {
   "cell_type": "code",
   "execution_count": 501,
   "id": "bf9dd652-3787-48c1-bc36-463eaf6cda22",
   "metadata": {},
   "outputs": [],
   "source": [
    "balance_conditions = [\n",
    "    (icici[\"Balance\"]>=0) & (icici[\"Balance\"]<=10000),\n",
    "    (icici[\"Balance\"]>10000) & (icici[\"Balance\"]<=25000),\n",
    "    (icici[\"Balance\"]>25000) & (icici[\"Balance\"]<=50000),\n",
    "    (icici[\"Balance\"]>50000) & (icici[\"Balance\"]<=100000),\n",
    "    (icici[\"Balance\"]>100000) & (icici[\"Balance\"]<=150000),\n",
    "    (icici[\"Balance\"]>150000) & (icici[\"Balance\"]<=200000),\n",
    "    (icici[\"Balance\"]>200000)\n",
    "]"
   ]
  },
  {
   "cell_type": "code",
   "execution_count": 503,
   "id": "ca1d3cba-764a-4397-ac1b-264e6b8827b2",
   "metadata": {},
   "outputs": [],
   "source": [
    "balance_output = [\"0-10000\",\"10000-25000\",\"25000-50000\",\"50000-100000\",\"100000-150000\",\"150000-200000\",\"Above 200000\"]"
   ]
  },
  {
   "cell_type": "code",
   "execution_count": 505,
   "id": "8f516892-14fa-4e5f-be8a-bc815eae51ea",
   "metadata": {},
   "outputs": [],
   "source": [
    "icici[\"Balance_Group\"] = np.select(balance_conditions,balance_output)"
   ]
  },
  {
   "cell_type": "code",
   "execution_count": null,
   "id": "83779942-4a5b-4235-bad8-6994b29f81cc",
   "metadata": {},
   "outputs": [],
   "source": []
  },
  {
   "cell_type": "code",
   "execution_count": 513,
   "id": "50908ddb-e403-45f7-a5ba-713cf32d66c6",
   "metadata": {},
   "outputs": [
    {
     "data": {
      "text/html": [
       "<div>\n",
       "<style scoped>\n",
       "    .dataframe tbody tr th:only-of-type {\n",
       "        vertical-align: middle;\n",
       "    }\n",
       "\n",
       "    .dataframe tbody tr th {\n",
       "        vertical-align: top;\n",
       "    }\n",
       "\n",
       "    .dataframe thead th {\n",
       "        text-align: right;\n",
       "    }\n",
       "</style>\n",
       "<table border=\"1\" class=\"dataframe\">\n",
       "  <thead>\n",
       "    <tr style=\"text-align: right;\">\n",
       "      <th></th>\n",
       "      <th>Total_Churn</th>\n",
       "    </tr>\n",
       "    <tr>\n",
       "      <th>Balance_Group</th>\n",
       "      <th></th>\n",
       "    </tr>\n",
       "  </thead>\n",
       "  <tbody>\n",
       "    <tr>\n",
       "      <th>100000-150000</th>\n",
       "      <td>987</td>\n",
       "    </tr>\n",
       "    <tr>\n",
       "      <th>0-10000</th>\n",
       "      <td>501</td>\n",
       "    </tr>\n",
       "    <tr>\n",
       "      <th>50000-100000</th>\n",
       "      <td>300</td>\n",
       "    </tr>\n",
       "    <tr>\n",
       "      <th>150000-200000</th>\n",
       "      <td>205</td>\n",
       "    </tr>\n",
       "    <tr>\n",
       "      <th>25000-50000</th>\n",
       "      <td>22</td>\n",
       "    </tr>\n",
       "    <tr>\n",
       "      <th>Above 200000</th>\n",
       "      <td>19</td>\n",
       "    </tr>\n",
       "    <tr>\n",
       "      <th>10000-25000</th>\n",
       "      <td>3</td>\n",
       "    </tr>\n",
       "  </tbody>\n",
       "</table>\n",
       "</div>"
      ],
      "text/plain": [
       "               Total_Churn\n",
       "Balance_Group             \n",
       "100000-150000          987\n",
       "0-10000                501\n",
       "50000-100000           300\n",
       "150000-200000          205\n",
       "25000-50000             22\n",
       "Above 200000            19\n",
       "10000-25000              3"
      ]
     },
     "execution_count": 513,
     "metadata": {},
     "output_type": "execute_result"
    }
   ],
   "source": [
    "icici.loc[icici[\"Exited\"] == 1,:].groupby(\"Balance_Group\",observed=False).agg(Total_Churn = (\"Exited\",\"count\")).sort_values(\"Total_Churn\",ascending=False)"
   ]
  },
  {
   "cell_type": "code",
   "execution_count": null,
   "id": "619d8bb1-ada8-493a-b828-194f892a737e",
   "metadata": {},
   "outputs": [],
   "source": []
  },
  {
   "cell_type": "code",
   "execution_count": null,
   "id": "0d76358f-521f-4ed6-a0f6-156eca9ed9f6",
   "metadata": {},
   "outputs": [],
   "source": []
  },
  {
   "cell_type": "code",
   "execution_count": null,
   "id": "e4507d78-46da-44cf-af94-9fdb8c17ae63",
   "metadata": {},
   "outputs": [],
   "source": []
  },
  {
   "cell_type": "code",
   "execution_count": null,
   "id": "de1e65f6-af69-4902-9011-23c5aea72727",
   "metadata": {},
   "outputs": [],
   "source": []
  },
  {
   "cell_type": "code",
   "execution_count": null,
   "id": "b4c3a1af-4471-4cf2-8b68-3f7b93a69798",
   "metadata": {},
   "outputs": [],
   "source": []
  },
  {
   "cell_type": "code",
   "execution_count": null,
   "id": "3b1c1b18-feb6-4fc6-825f-d16c8c911c26",
   "metadata": {},
   "outputs": [],
   "source": []
  },
  {
   "cell_type": "code",
   "execution_count": null,
   "id": "0227d789-c123-4ee7-8e01-37505700c17f",
   "metadata": {},
   "outputs": [],
   "source": []
  },
  {
   "cell_type": "code",
   "execution_count": null,
   "id": "daf37c27-d760-4f47-b749-289c3685d2dd",
   "metadata": {},
   "outputs": [],
   "source": []
  },
  {
   "cell_type": "code",
   "execution_count": null,
   "id": "147e8719-f083-4275-b097-a713311d51f9",
   "metadata": {},
   "outputs": [],
   "source": []
  },
  {
   "cell_type": "code",
   "execution_count": null,
   "id": "8f03484d-5f2e-4ed4-94dd-8004a356a841",
   "metadata": {},
   "outputs": [],
   "source": []
  },
  {
   "cell_type": "code",
   "execution_count": null,
   "id": "c9eeafe1-0d01-47d5-8678-8c801b9a7223",
   "metadata": {},
   "outputs": [],
   "source": []
  }
 ],
 "metadata": {
  "kernelspec": {
   "display_name": "Python 3 (ipykernel)",
   "language": "python",
   "name": "python3"
  },
  "language_info": {
   "codemirror_mode": {
    "name": "ipython",
    "version": 3
   },
   "file_extension": ".py",
   "mimetype": "text/x-python",
   "name": "python",
   "nbconvert_exporter": "python",
   "pygments_lexer": "ipython3",
   "version": "3.12.7"
  }
 },
 "nbformat": 4,
 "nbformat_minor": 5
}
